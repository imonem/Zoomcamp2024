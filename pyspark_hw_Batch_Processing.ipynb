{
 "cells": [
  {
   "cell_type": "code",
   "execution_count": 2,
   "id": "8e4c295b-fe58-4f17-b968-20ada1de872b",
   "metadata": {},
   "outputs": [],
   "source": [
    "import pyspark"
   ]
  },
  {
   "cell_type": "code",
   "execution_count": 3,
   "id": "c5aadfd8-f772-4643-bed2-97d8a03cc172",
   "metadata": {},
   "outputs": [],
   "source": [
    "from pyspark.sql import SparkSession"
   ]
  },
  {
   "cell_type": "code",
   "execution_count": 4,
   "id": "ffd2ea2d-c72f-44c1-b966-536358c02406",
   "metadata": {},
   "outputs": [
    {
     "name": "stderr",
     "output_type": "stream",
     "text": [
      "Setting default log level to \"WARN\".\n",
      "To adjust logging level use sc.setLogLevel(newLevel). For SparkR, use setLogLevel(newLevel).\n",
      "24/03/06 20:54:13 WARN NativeCodeLoader: Unable to load native-hadoop library for your platform... using builtin-java classes where applicable\n"
     ]
    }
   ],
   "source": [
    "spark = SparkSession.builder \\\n",
    "    .master(\"local[*]\") \\\n",
    "    .appName('hw') \\\n",
    "    .getOrCreate()"
   ]
  },
  {
   "cell_type": "code",
   "execution_count": 4,
   "id": "74aef222-32e2-4a71-b9c0-694462c8c975",
   "metadata": {},
   "outputs": [],
   "source": [
    "df = spark.read\\\n",
    "    .option(\"header\", \"true\")\\\n",
    "    .csv('fhv_tripdata_2019-10.csv.gz')"
   ]
  },
  {
   "cell_type": "code",
   "execution_count": 5,
   "id": "48e2f9ca-dfbc-4f41-a49d-f16ba563924a",
   "metadata": {},
   "outputs": [
    {
     "data": {
      "text/plain": [
       "[('dispatching_base_num', 'string'),\n",
       " ('pickup_datetime', 'string'),\n",
       " ('dropOff_datetime', 'string'),\n",
       " ('PUlocationID', 'string'),\n",
       " ('DOlocationID', 'string'),\n",
       " ('SR_Flag', 'string'),\n",
       " ('Affiliated_base_number', 'string')]"
      ]
     },
     "execution_count": 5,
     "metadata": {},
     "output_type": "execute_result"
    }
   ],
   "source": [
    "df.dtypes"
   ]
  },
  {
   "cell_type": "code",
   "execution_count": 6,
   "id": "eb56dc5c-ca7a-4a14-bbe9-7e7ffae0f755",
   "metadata": {},
   "outputs": [
    {
     "data": {
      "text/plain": [
       "StructType([StructField('dispatching_base_num', StringType(), True), StructField('pickup_datetime', StringType(), True), StructField('dropOff_datetime', StringType(), True), StructField('PUlocationID', StringType(), True), StructField('DOlocationID', StringType(), True), StructField('SR_Flag', StringType(), True), StructField('Affiliated_base_number', StringType(), True)])"
      ]
     },
     "execution_count": 6,
     "metadata": {},
     "output_type": "execute_result"
    }
   ],
   "source": [
    "df.schema"
   ]
  },
  {
   "cell_type": "code",
   "execution_count": 7,
   "id": "8a565c33-5c76-4663-9d12-f0e1453b7123",
   "metadata": {},
   "outputs": [
    {
     "name": "stdout",
     "output_type": "stream",
     "text": [
      "+--------------------+-------------------+-------------------+------------+------------+-------+----------------------+\n",
      "|dispatching_base_num|    pickup_datetime|   dropOff_datetime|PUlocationID|DOlocationID|SR_Flag|Affiliated_base_number|\n",
      "+--------------------+-------------------+-------------------+------------+------------+-------+----------------------+\n",
      "|              B00009|2019-10-01 00:23:00|2019-10-01 00:35:00|         264|         264|   NULL|                B00009|\n",
      "|              B00013|2019-10-01 00:11:29|2019-10-01 00:13:22|         264|         264|   NULL|                B00013|\n",
      "|              B00014|2019-10-01 00:11:43|2019-10-01 00:37:20|         264|         264|   NULL|                B00014|\n",
      "|              B00014|2019-10-01 00:56:29|2019-10-01 00:57:47|         264|         264|   NULL|                B00014|\n",
      "|              B00014|2019-10-01 00:23:09|2019-10-01 00:28:27|         264|         264|   NULL|                B00014|\n",
      "|     B00021         |2019-10-01 00:00:48|2019-10-01 00:07:12|         129|         129|   NULL|       B00021         |\n",
      "|     B00021         |2019-10-01 00:47:23|2019-10-01 00:53:25|          57|          57|   NULL|       B00021         |\n",
      "|     B00021         |2019-10-01 00:10:06|2019-10-01 00:19:50|         173|         173|   NULL|       B00021         |\n",
      "|     B00021         |2019-10-01 00:51:37|2019-10-01 01:06:14|         226|         226|   NULL|       B00021         |\n",
      "|     B00021         |2019-10-01 00:28:23|2019-10-01 00:34:33|          56|          56|   NULL|       B00021         |\n",
      "|     B00021         |2019-10-01 00:31:17|2019-10-01 00:51:52|          82|          82|   NULL|       B00021         |\n",
      "|              B00037|2019-10-01 00:07:41|2019-10-01 00:15:23|         264|          71|   NULL|                B00037|\n",
      "|              B00037|2019-10-01 00:13:38|2019-10-01 00:25:51|         264|          39|   NULL|                B00037|\n",
      "|              B00037|2019-10-01 00:42:40|2019-10-01 00:53:47|         264|         188|   NULL|                B00037|\n",
      "|              B00037|2019-10-01 00:58:46|2019-10-01 01:10:11|         264|          91|   NULL|                B00037|\n",
      "|              B00037|2019-10-01 00:09:49|2019-10-01 00:14:37|         264|          71|   NULL|                B00037|\n",
      "|              B00037|2019-10-01 00:22:35|2019-10-01 00:36:53|         264|          35|   NULL|                B00037|\n",
      "|              B00037|2019-10-01 00:54:27|2019-10-01 01:03:37|         264|          61|   NULL|                B00037|\n",
      "|              B00037|2019-10-01 00:08:12|2019-10-01 00:28:47|         264|         198|   NULL|                B00037|\n",
      "|              B00053|2019-10-01 00:05:24|2019-10-01 00:53:03|         264|         264|   NULL|                  #N/A|\n",
      "+--------------------+-------------------+-------------------+------------+------------+-------+----------------------+\n",
      "only showing top 20 rows\n",
      "\n"
     ]
    }
   ],
   "source": [
    "df.show()"
   ]
  },
  {
   "cell_type": "code",
   "execution_count": 8,
   "id": "8107b3d6-234d-470e-9332-1eeed5d1c8fd",
   "metadata": {},
   "outputs": [],
   "source": [
    "from pyspark.sql import types"
   ]
  },
  {
   "cell_type": "code",
   "execution_count": 10,
   "id": "20c7b28c-3697-4470-bd8d-e20c527c9f9d",
   "metadata": {},
   "outputs": [],
   "source": [
    "schema = types.StructType([\n",
    "    types.StructField('dispatching_base_num', types.StringType(), True), \n",
    "    types.StructField('pickup_datetime', types.TimestampType(), True), \n",
    "    types.StructField('dropOff_datetime', types.TimestampType(), True), \n",
    "    types.StructField('PUlocationID', types.IntegerType(), True), \n",
    "    types.StructField('DOlocationID', types.IntegerType(), True), \n",
    "    types.StructField('SR_Flag', types.StringType(), True), \n",
    "    types.StructField('Affiliated_base_number', types.StringType(), True)])"
   ]
  },
  {
   "cell_type": "code",
   "execution_count": 11,
   "id": "4a07f584-4293-4d8d-91e4-2015bb2e885e",
   "metadata": {},
   "outputs": [],
   "source": [
    "df = spark.read\\\n",
    "    .option(\"header\", \"true\")\\\n",
    "    .schema(schema)\\\n",
    "    .csv('fhv_tripdata_2019-10.csv.gz')"
   ]
  },
  {
   "cell_type": "code",
   "execution_count": 12,
   "id": "470993c6-e358-4a00-a068-ed8448b5e8e1",
   "metadata": {},
   "outputs": [
    {
     "name": "stdout",
     "output_type": "stream",
     "text": [
      "+--------------------+-------------------+-------------------+------------+------------+-------+----------------------+\n",
      "|dispatching_base_num|    pickup_datetime|   dropOff_datetime|PUlocationID|DOlocationID|SR_Flag|Affiliated_base_number|\n",
      "+--------------------+-------------------+-------------------+------------+------------+-------+----------------------+\n",
      "|              B00009|2019-10-01 00:23:00|2019-10-01 00:35:00|         264|         264|   NULL|                B00009|\n",
      "|              B00013|2019-10-01 00:11:29|2019-10-01 00:13:22|         264|         264|   NULL|                B00013|\n",
      "|              B00014|2019-10-01 00:11:43|2019-10-01 00:37:20|         264|         264|   NULL|                B00014|\n",
      "|              B00014|2019-10-01 00:56:29|2019-10-01 00:57:47|         264|         264|   NULL|                B00014|\n",
      "|              B00014|2019-10-01 00:23:09|2019-10-01 00:28:27|         264|         264|   NULL|                B00014|\n",
      "|     B00021         |2019-10-01 00:00:48|2019-10-01 00:07:12|         129|         129|   NULL|       B00021         |\n",
      "|     B00021         |2019-10-01 00:47:23|2019-10-01 00:53:25|          57|          57|   NULL|       B00021         |\n",
      "|     B00021         |2019-10-01 00:10:06|2019-10-01 00:19:50|         173|         173|   NULL|       B00021         |\n",
      "|     B00021         |2019-10-01 00:51:37|2019-10-01 01:06:14|         226|         226|   NULL|       B00021         |\n",
      "|     B00021         |2019-10-01 00:28:23|2019-10-01 00:34:33|          56|          56|   NULL|       B00021         |\n",
      "|     B00021         |2019-10-01 00:31:17|2019-10-01 00:51:52|          82|          82|   NULL|       B00021         |\n",
      "|              B00037|2019-10-01 00:07:41|2019-10-01 00:15:23|         264|          71|   NULL|                B00037|\n",
      "|              B00037|2019-10-01 00:13:38|2019-10-01 00:25:51|         264|          39|   NULL|                B00037|\n",
      "|              B00037|2019-10-01 00:42:40|2019-10-01 00:53:47|         264|         188|   NULL|                B00037|\n",
      "|              B00037|2019-10-01 00:58:46|2019-10-01 01:10:11|         264|          91|   NULL|                B00037|\n",
      "|              B00037|2019-10-01 00:09:49|2019-10-01 00:14:37|         264|          71|   NULL|                B00037|\n",
      "|              B00037|2019-10-01 00:22:35|2019-10-01 00:36:53|         264|          35|   NULL|                B00037|\n",
      "|              B00037|2019-10-01 00:54:27|2019-10-01 01:03:37|         264|          61|   NULL|                B00037|\n",
      "|              B00037|2019-10-01 00:08:12|2019-10-01 00:28:47|         264|         198|   NULL|                B00037|\n",
      "|              B00053|2019-10-01 00:05:24|2019-10-01 00:53:03|         264|         264|   NULL|                  #N/A|\n",
      "+--------------------+-------------------+-------------------+------------+------------+-------+----------------------+\n",
      "only showing top 20 rows\n",
      "\n"
     ]
    }
   ],
   "source": [
    "df.show()"
   ]
  },
  {
   "cell_type": "code",
   "execution_count": 14,
   "id": "dca1f6f3-b63f-4ea8-814d-b70160c19794",
   "metadata": {},
   "outputs": [
    {
     "data": {
      "text/plain": [
       "[Row(dispatching_base_num='B00009', pickup_datetime=datetime.datetime(2019, 10, 1, 0, 23), dropOff_datetime=datetime.datetime(2019, 10, 1, 0, 35), PUlocationID=264, DOlocationID=264, SR_Flag=None, Affiliated_base_number='B00009'),\n",
       " Row(dispatching_base_num='B00013', pickup_datetime=datetime.datetime(2019, 10, 1, 0, 11, 29), dropOff_datetime=datetime.datetime(2019, 10, 1, 0, 13, 22), PUlocationID=264, DOlocationID=264, SR_Flag=None, Affiliated_base_number='B00013'),\n",
       " Row(dispatching_base_num='B00014', pickup_datetime=datetime.datetime(2019, 10, 1, 0, 11, 43), dropOff_datetime=datetime.datetime(2019, 10, 1, 0, 37, 20), PUlocationID=264, DOlocationID=264, SR_Flag=None, Affiliated_base_number='B00014'),\n",
       " Row(dispatching_base_num='B00014', pickup_datetime=datetime.datetime(2019, 10, 1, 0, 56, 29), dropOff_datetime=datetime.datetime(2019, 10, 1, 0, 57, 47), PUlocationID=264, DOlocationID=264, SR_Flag=None, Affiliated_base_number='B00014'),\n",
       " Row(dispatching_base_num='B00014', pickup_datetime=datetime.datetime(2019, 10, 1, 0, 23, 9), dropOff_datetime=datetime.datetime(2019, 10, 1, 0, 28, 27), PUlocationID=264, DOlocationID=264, SR_Flag=None, Affiliated_base_number='B00014'),\n",
       " Row(dispatching_base_num='B00021         ', pickup_datetime=datetime.datetime(2019, 10, 1, 0, 0, 48), dropOff_datetime=datetime.datetime(2019, 10, 1, 0, 7, 12), PUlocationID=129, DOlocationID=129, SR_Flag=None, Affiliated_base_number='B00021         '),\n",
       " Row(dispatching_base_num='B00021         ', pickup_datetime=datetime.datetime(2019, 10, 1, 0, 47, 23), dropOff_datetime=datetime.datetime(2019, 10, 1, 0, 53, 25), PUlocationID=57, DOlocationID=57, SR_Flag=None, Affiliated_base_number='B00021         '),\n",
       " Row(dispatching_base_num='B00021         ', pickup_datetime=datetime.datetime(2019, 10, 1, 0, 10, 6), dropOff_datetime=datetime.datetime(2019, 10, 1, 0, 19, 50), PUlocationID=173, DOlocationID=173, SR_Flag=None, Affiliated_base_number='B00021         '),\n",
       " Row(dispatching_base_num='B00021         ', pickup_datetime=datetime.datetime(2019, 10, 1, 0, 51, 37), dropOff_datetime=datetime.datetime(2019, 10, 1, 1, 6, 14), PUlocationID=226, DOlocationID=226, SR_Flag=None, Affiliated_base_number='B00021         '),\n",
       " Row(dispatching_base_num='B00021         ', pickup_datetime=datetime.datetime(2019, 10, 1, 0, 28, 23), dropOff_datetime=datetime.datetime(2019, 10, 1, 0, 34, 33), PUlocationID=56, DOlocationID=56, SR_Flag=None, Affiliated_base_number='B00021         ')]"
      ]
     },
     "execution_count": 14,
     "metadata": {},
     "output_type": "execute_result"
    }
   ],
   "source": [
    "df.head(10)"
   ]
  },
  {
   "cell_type": "code",
   "execution_count": 17,
   "id": "ae0cf5f0-bbff-44a5-9367-5901d0cdf591",
   "metadata": {},
   "outputs": [],
   "source": [
    "df = df.repartition(6)"
   ]
  },
  {
   "cell_type": "code",
   "execution_count": 58,
   "id": "5bbb1a35-b3a8-429a-8c70-34e426feac67",
   "metadata": {},
   "outputs": [
    {
     "ename": "AttributeError",
     "evalue": "'NoneType' object has no attribute 'write'",
     "output_type": "error",
     "traceback": [
      "\u001b[0;31m---------------------------------------------------------------------------\u001b[0m",
      "\u001b[0;31mAttributeError\u001b[0m                            Traceback (most recent call last)",
      "Cell \u001b[0;32mIn[58], line 1\u001b[0m\n\u001b[0;32m----> 1\u001b[0m \u001b[43mdf\u001b[49m\u001b[38;5;241;43m.\u001b[39;49m\u001b[43mwrite\u001b[49m\u001b[38;5;241m.\u001b[39mparquet(\u001b[38;5;124m'\u001b[39m\u001b[38;5;124mfhv2019_repartitioned\u001b[39m\u001b[38;5;124m'\u001b[39m,mode\u001b[38;5;241m=\u001b[39m\u001b[38;5;124m\"\u001b[39m\u001b[38;5;124moverwrite\u001b[39m\u001b[38;5;124m\"\u001b[39m)\n",
      "\u001b[0;31mAttributeError\u001b[0m: 'NoneType' object has no attribute 'write'"
     ]
    }
   ],
   "source": [
    "df.write.parquet('fhv2019_repartitioned',mode=\"overwrite\")"
   ]
  },
  {
   "cell_type": "code",
   "execution_count": 5,
   "id": "bb27e396-5b15-4e43-ae6e-30e06d89a3fe",
   "metadata": {},
   "outputs": [
    {
     "name": "stderr",
     "output_type": "stream",
     "text": [
      "                                                                                \r"
     ]
    }
   ],
   "source": [
    "df = spark.read.parquet('fhv2019_repartitioned')"
   ]
  },
  {
   "cell_type": "code",
   "execution_count": 6,
   "id": "ce401370-4404-4530-81bf-e36f8b9e5c03",
   "metadata": {},
   "outputs": [
    {
     "name": "stdout",
     "output_type": "stream",
     "text": [
      "root\n",
      " |-- dispatching_base_num: string (nullable = true)\n",
      " |-- pickup_datetime: timestamp (nullable = true)\n",
      " |-- dropOff_datetime: timestamp (nullable = true)\n",
      " |-- PUlocationID: integer (nullable = true)\n",
      " |-- DOlocationID: integer (nullable = true)\n",
      " |-- SR_Flag: string (nullable = true)\n",
      " |-- Affiliated_base_number: string (nullable = true)\n",
      "\n"
     ]
    }
   ],
   "source": [
    "df.printSchema()"
   ]
  },
  {
   "cell_type": "code",
   "execution_count": 8,
   "id": "d4c7120c-8e61-4f24-9a9b-7e92f70a11a2",
   "metadata": {},
   "outputs": [],
   "source": [
    "from pyspark.sql import functions as F"
   ]
  },
  {
   "cell_type": "code",
   "execution_count": 106,
   "id": "3392945a-410d-41cd-9852-9468471d41e6",
   "metadata": {},
   "outputs": [
    {
     "data": {
      "text/plain": [
       "62610"
      ]
     },
     "execution_count": 106,
     "metadata": {},
     "output_type": "execute_result"
    }
   ],
   "source": [
    "df \\\n",
    "    .withColumn('pickup_date', F.to_date(df.pickup_datetime))\\\n",
    "    .withColumn('dropoff_date', F.to_date(df.dropOff_datetime))\\\n",
    "    .select('pickup_date', 'dropoff_date', 'PUlocationID', 'DOlocationID')\\\n",
    "    .filter(\"pickup_date='2019-10-15'\")\\\n",
    "    .count()\n",
    "                "
   ]
  },
  {
   "cell_type": "code",
   "execution_count": 103,
   "id": "f2cf3855-097f-431c-991f-d0011ae13943",
   "metadata": {},
   "outputs": [
    {
     "data": {
      "text/plain": [
       "62610"
      ]
     },
     "execution_count": 103,
     "metadata": {},
     "output_type": "execute_result"
    }
   ],
   "source": [
    "df \\\n",
    "    .withColumn('pickup_date', F.to_date(df.pickup_datetime)) \\\n",
    "    .filter(\"pickup_date = '2019-10-15'\") \\\n",
    "    .count()"
   ]
  },
  {
   "cell_type": "code",
   "execution_count": 100,
   "id": "11ab37d9-58dd-4fd2-b54a-393c8c4dde4b",
   "metadata": {},
   "outputs": [
    {
     "data": {
      "text/plain": [
       "[Row(dispatching_base_num='B02784', pickup_datetime=datetime.datetime(2019, 10, 1, 9, 55, 38), dropOff_datetime=datetime.datetime(2019, 10, 1, 10, 5, 43), PUlocationID=89, DOlocationID=85, SR_Flag=None, Affiliated_base_number=None),\n",
       " Row(dispatching_base_num='B02429', pickup_datetime=datetime.datetime(2019, 10, 21, 4, 15, 47), dropOff_datetime=datetime.datetime(2019, 10, 21, 4, 36, 4), PUlocationID=264, DOlocationID=264, SR_Flag=None, Affiliated_base_number='B02429'),\n",
       " Row(dispatching_base_num='B01482', pickup_datetime=datetime.datetime(2019, 10, 19, 12, 0), dropOff_datetime=datetime.datetime(2019, 10, 19, 12, 20), PUlocationID=264, DOlocationID=264, SR_Flag=None, Affiliated_base_number='B01482'),\n",
       " Row(dispatching_base_num='B03015', pickup_datetime=datetime.datetime(2019, 10, 11, 14, 28), dropOff_datetime=datetime.datetime(2019, 10, 11, 14, 32, 44), PUlocationID=264, DOlocationID=216, SR_Flag=None, Affiliated_base_number='B03015'),\n",
       " Row(dispatching_base_num='B01529', pickup_datetime=datetime.datetime(2019, 10, 21, 18, 0, 26), dropOff_datetime=datetime.datetime(2019, 10, 21, 18, 7, 21), PUlocationID=264, DOlocationID=80, SR_Flag=None, Affiliated_base_number='B01529'),\n",
       " Row(dispatching_base_num='B00477', pickup_datetime=datetime.datetime(2019, 10, 3, 19, 30, 35), dropOff_datetime=datetime.datetime(2019, 10, 3, 20, 27, 57), PUlocationID=161, DOlocationID=14, SR_Flag=None, Affiliated_base_number='B00477'),\n",
       " Row(dispatching_base_num='B00937', pickup_datetime=datetime.datetime(2019, 10, 25, 6, 10, 40), dropOff_datetime=datetime.datetime(2019, 10, 25, 6, 29, 43), PUlocationID=264, DOlocationID=208, SR_Flag=None, Affiliated_base_number='B00937'),\n",
       " Row(dispatching_base_num='B00889         ', pickup_datetime=datetime.datetime(2019, 10, 30, 6, 18, 2), dropOff_datetime=datetime.datetime(2019, 10, 30, 6, 35, 12), PUlocationID=260, DOlocationID=260, SR_Flag=None, Affiliated_base_number='B00889         '),\n",
       " Row(dispatching_base_num='B01239', pickup_datetime=datetime.datetime(2019, 10, 9, 3, 39, 16), dropOff_datetime=datetime.datetime(2019, 10, 9, 3, 42, 7), PUlocationID=264, DOlocationID=254, SR_Flag=None, Affiliated_base_number='B00882'),\n",
       " Row(dispatching_base_num='B00256', pickup_datetime=datetime.datetime(2019, 10, 27, 11, 54, 37), dropOff_datetime=datetime.datetime(2019, 10, 27, 12, 28, 18), PUlocationID=264, DOlocationID=264, SR_Flag=None, Affiliated_base_number='B00256')]"
      ]
     },
     "execution_count": 100,
     "metadata": {},
     "output_type": "execute_result"
    }
   ],
   "source": [
    "df.head(10)"
   ]
  },
  {
   "cell_type": "code",
   "execution_count": 98,
   "id": "a0a7a1e8-81a5-4d30-b29c-050d290445bd",
   "metadata": {},
   "outputs": [
    {
     "data": {
      "text/plain": [
       "1054019"
      ]
     },
     "execution_count": 98,
     "metadata": {},
     "output_type": "execute_result"
    }
   ],
   "source": [
    "df.select('pickup_datetime', 'dropOff_datetime', 'PUlocationID', 'DOlocationID')\\\n",
    "    .filter(df.pickup_datetime>='2019-10-15 00:00:00')\\\n",
    "    .count()"
   ]
  },
  {
   "cell_type": "code",
   "execution_count": 64,
   "id": "33d02626-56a6-4a89-a82c-9cced16e5fa7",
   "metadata": {},
   "outputs": [
    {
     "name": "stdout",
     "output_type": "stream",
     "text": [
      "+--------------------+-------------------+-------------------+------------+------------+-------+----------------------+\n",
      "|dispatching_base_num|    pickup_datetime|   dropOff_datetime|PUlocationID|DOlocationID|SR_Flag|Affiliated_base_number|\n",
      "+--------------------+-------------------+-------------------+------------+------------+-------+----------------------+\n",
      "|              B02784|2019-10-01 09:55:38|2019-10-01 10:05:43|          89|          85|   NULL|                  NULL|\n",
      "|              B02429|2019-10-21 04:15:47|2019-10-21 04:36:04|         264|         264|   NULL|                B02429|\n",
      "|              B01482|2019-10-19 12:00:00|2019-10-19 12:20:00|         264|         264|   NULL|                B01482|\n",
      "|              B03015|2019-10-11 14:28:00|2019-10-11 14:32:44|         264|         216|   NULL|                B03015|\n",
      "|              B01529|2019-10-21 18:00:26|2019-10-21 18:07:21|         264|          80|   NULL|                B01529|\n",
      "|              B00477|2019-10-03 19:30:35|2019-10-03 20:27:57|         161|          14|   NULL|                B00477|\n",
      "|              B00937|2019-10-25 06:10:40|2019-10-25 06:29:43|         264|         208|   NULL|                B00937|\n",
      "|     B00889         |2019-10-30 06:18:02|2019-10-30 06:35:12|         260|         260|   NULL|       B00889         |\n",
      "|              B01239|2019-10-09 03:39:16|2019-10-09 03:42:07|         264|         254|   NULL|                B00882|\n",
      "|              B00256|2019-10-27 11:54:37|2019-10-27 12:28:18|         264|         264|   NULL|                B00256|\n",
      "|              B01087|2019-10-14 18:41:24|2019-10-14 19:02:06|         261|         186|   NULL|                B01087|\n",
      "|              B02846|2019-10-19 11:42:45|2019-10-19 12:42:42|         264|          23|   NULL|                B02846|\n",
      "|              B02546|2019-10-17 15:20:32|2019-10-17 15:25:51|         264|         167|   NULL|                B02546|\n",
      "|              B02803|2019-10-21 05:00:47|2019-10-21 05:03:44|          47|         169|   NULL|                B02803|\n",
      "|              B01644|2019-10-14 11:34:00|2019-10-14 13:12:00|         264|         264|   NULL|                B01644|\n",
      "|              B01454|2019-10-13 07:08:41|2019-10-13 07:13:43|         264|         188|   NULL|                B01454|\n",
      "|              B01239|2019-10-24 06:05:22|2019-10-24 06:15:03|         264|         174|   NULL|                B00882|\n",
      "|              B01751|2019-10-20 09:49:18|2019-10-20 10:40:59|         264|         264|   NULL|                B01751|\n",
      "|              B00887|2019-10-06 17:17:28|2019-10-06 18:12:14|         264|         132|   NULL|                B00887|\n",
      "|              B01362|2019-10-07 11:25:57|2019-10-07 11:39:15|         264|         185|   NULL|                B01362|\n",
      "+--------------------+-------------------+-------------------+------------+------------+-------+----------------------+\n",
      "only showing top 20 rows\n",
      "\n"
     ]
    }
   ],
   "source": [
    "df.show()"
   ]
  },
  {
   "cell_type": "code",
   "execution_count": 121,
   "id": "70c50e52-9a46-4bca-9786-1868a3e230ec",
   "metadata": {},
   "outputs": [
    {
     "name": "stdout",
     "output_type": "stream",
     "text": [
      "+-----------+----------------------+\n",
      "|pickup_date|max(duration in hours)|\n",
      "+-----------+----------------------+\n",
      "| 2019-10-28|              631152.5|\n",
      "| 2019-10-11|              631152.5|\n",
      "| 2019-10-31|     87672.44083333333|\n",
      "| 2019-10-01|     70128.02805555555|\n",
      "| 2019-10-17|                8794.0|\n",
      "+-----------+----------------------+\n",
      "\n"
     ]
    }
   ],
   "source": [
    "df \\\n",
    "    .withColumn('duration in hours', (df.dropOff_datetime.cast('long') - df.pickup_datetime.cast('long'))/3600) \\\n",
    "    .withColumn('pickup_date', F.to_date(df.pickup_datetime)) \\\n",
    "    .groupBy('pickup_date') \\\n",
    "        .max('duration in hours') \\\n",
    "    .orderBy('max(duration in hours)', ascending=False) \\\n",
    "    .limit(5) \\\n",
    "    .show()"
   ]
  },
  {
   "cell_type": "code",
   "execution_count": 9,
   "id": "9bf34d41-5d86-45d2-a220-daee0fe2a1ef",
   "metadata": {},
   "outputs": [
    {
     "name": "stderr",
     "output_type": "stream",
     "text": [
      "                                                                                \r"
     ]
    },
    {
     "name": "stdout",
     "output_type": "stream",
     "text": [
      "+-----------+---------------------+\n",
      "|pickup_date|max_duration_in_hours|\n",
      "+-----------+---------------------+\n",
      "| 2019-10-28|             631152.5|\n",
      "| 2019-10-11|             631152.5|\n",
      "| 2019-10-31|    87672.44083333333|\n",
      "| 2019-10-01|    70128.02805555555|\n",
      "| 2019-10-17|               8794.0|\n",
      "+-----------+---------------------+\n",
      "\n"
     ]
    }
   ],
   "source": [
    "# Cast datetime columns and calculate duration in hours\n",
    "df = df.withColumn('pickup_datetime', F.col('pickup_datetime').cast('timestamp')) \\\n",
    "       .withColumn('dropOff_datetime', F.col('dropOff_datetime').cast('timestamp')) \\\n",
    "       .withColumn('duration_in_hours', (F.col('dropOff_datetime').cast('long') - F.col('pickup_datetime').cast('long')) / 3600)\n",
    "\n",
    "# Extract pickup date\n",
    "df = df.withColumn('pickup_date', F.to_date('pickup_datetime'))\n",
    "\n",
    "# Group by pickup date, calculate max duration, order by max duration descending, and limit to 5\n",
    "result_df = df.groupBy('pickup_date') \\\n",
    "              .agg(F.max('duration_in_hours').alias('max_duration_in_hours')) \\\n",
    "              .orderBy(F.desc('max_duration_in_hours')) \\\n",
    "              .limit(5)\n",
    "\n",
    "# Show the result\n",
    "result_df.show()\n"
   ]
  },
  {
   "cell_type": "code",
   "execution_count": 10,
   "id": "63e9f2e2-8be0-42cb-bb74-9681da4e9d53",
   "metadata": {},
   "outputs": [
    {
     "name": "stdout",
     "output_type": "stream",
     "text": [
      "+--------------------+-------------------+-------------------+------------+------------+-------+----------------------+--------------------+-----------+\n",
      "|dispatching_base_num|    pickup_datetime|   dropOff_datetime|PUlocationID|DOlocationID|SR_Flag|Affiliated_base_number|   duration_in_hours|pickup_date|\n",
      "+--------------------+-------------------+-------------------+------------+------------+-------+----------------------+--------------------+-----------+\n",
      "|              B02784|2019-10-01 09:55:38|2019-10-01 10:05:43|          89|          85|   NULL|                  NULL| 0.16805555555555557| 2019-10-01|\n",
      "|              B02429|2019-10-21 04:15:47|2019-10-21 04:36:04|         264|         264|   NULL|                B02429| 0.33805555555555555| 2019-10-21|\n",
      "|              B01482|2019-10-19 12:00:00|2019-10-19 12:20:00|         264|         264|   NULL|                B01482|  0.3333333333333333| 2019-10-19|\n",
      "|              B03015|2019-10-11 14:28:00|2019-10-11 14:32:44|         264|         216|   NULL|                B03015| 0.07888888888888888| 2019-10-11|\n",
      "|              B01529|2019-10-21 18:00:26|2019-10-21 18:07:21|         264|          80|   NULL|                B01529| 0.11527777777777778| 2019-10-21|\n",
      "|              B00477|2019-10-03 19:30:35|2019-10-03 20:27:57|         161|          14|   NULL|                B00477|  0.9561111111111111| 2019-10-03|\n",
      "|              B00937|2019-10-25 06:10:40|2019-10-25 06:29:43|         264|         208|   NULL|                B00937|              0.3175| 2019-10-25|\n",
      "|     B00889         |2019-10-30 06:18:02|2019-10-30 06:35:12|         260|         260|   NULL|       B00889         |  0.2861111111111111| 2019-10-30|\n",
      "|              B01239|2019-10-09 03:39:16|2019-10-09 03:42:07|         264|         254|   NULL|                B00882|              0.0475| 2019-10-09|\n",
      "|              B00256|2019-10-27 11:54:37|2019-10-27 12:28:18|         264|         264|   NULL|                B00256|  0.5613888888888889| 2019-10-27|\n",
      "|              B01087|2019-10-14 18:41:24|2019-10-14 19:02:06|         261|         186|   NULL|                B01087|               0.345| 2019-10-14|\n",
      "|              B02846|2019-10-19 11:42:45|2019-10-19 12:42:42|         264|          23|   NULL|                B02846|  0.9991666666666666| 2019-10-19|\n",
      "|              B02546|2019-10-17 15:20:32|2019-10-17 15:25:51|         264|         167|   NULL|                B02546| 0.08861111111111111| 2019-10-17|\n",
      "|              B02803|2019-10-21 05:00:47|2019-10-21 05:03:44|          47|         169|   NULL|                B02803|0.049166666666666664| 2019-10-21|\n",
      "|              B01644|2019-10-14 11:34:00|2019-10-14 13:12:00|         264|         264|   NULL|                B01644|  1.6333333333333333| 2019-10-14|\n",
      "|              B01454|2019-10-13 07:08:41|2019-10-13 07:13:43|         264|         188|   NULL|                B01454| 0.08388888888888889| 2019-10-13|\n",
      "|              B01239|2019-10-24 06:05:22|2019-10-24 06:15:03|         264|         174|   NULL|                B00882|  0.1613888888888889| 2019-10-24|\n",
      "|              B01751|2019-10-20 09:49:18|2019-10-20 10:40:59|         264|         264|   NULL|                B01751|  0.8613888888888889| 2019-10-20|\n",
      "|              B00887|2019-10-06 17:17:28|2019-10-06 18:12:14|         264|         132|   NULL|                B00887|  0.9127777777777778| 2019-10-06|\n",
      "|              B01362|2019-10-07 11:25:57|2019-10-07 11:39:15|         264|         185|   NULL|                B01362| 0.22166666666666668| 2019-10-07|\n",
      "+--------------------+-------------------+-------------------+------------+------------+-------+----------------------+--------------------+-----------+\n",
      "only showing top 20 rows\n",
      "\n"
     ]
    }
   ],
   "source": [
    "df.show()"
   ]
  },
  {
   "cell_type": "code",
   "execution_count": 11,
   "id": "06b4375d-b484-4ef9-a2fd-668281e476a8",
   "metadata": {},
   "outputs": [],
   "source": [
    "df_zones = spark.read.parquet('zones')"
   ]
  },
  {
   "cell_type": "code",
   "execution_count": 12,
   "id": "6076ac33-8ea0-4711-ba60-c80505748e60",
   "metadata": {},
   "outputs": [
    {
     "data": {
      "text/plain": [
       "['LocationID', 'Borough', 'Zone', 'service_zone']"
      ]
     },
     "execution_count": 12,
     "metadata": {},
     "output_type": "execute_result"
    }
   ],
   "source": [
    "df_zones.columns"
   ]
  },
  {
   "cell_type": "code",
   "execution_count": 18,
   "id": "a8295c87-a0fa-4f5a-9096-add01955bc11",
   "metadata": {},
   "outputs": [],
   "source": [
    "df_zones.createOrReplaceTempView('zones')"
   ]
  },
  {
   "cell_type": "code",
   "execution_count": 20,
   "id": "43dd621e-485c-4a66-902d-a7491aeb4e30",
   "metadata": {},
   "outputs": [],
   "source": [
    "df.createOrReplaceTempView('fhv2019_repartitioned')"
   ]
  },
  {
   "cell_type": "code",
   "execution_count": 21,
   "id": "fb8debf2-2eb0-4f8d-a6d7-6a7be5684630",
   "metadata": {},
   "outputs": [
    {
     "data": {
      "text/plain": [
       "['dispatching_base_num',\n",
       " 'pickup_datetime',\n",
       " 'dropOff_datetime',\n",
       " 'PUlocationID',\n",
       " 'DOlocationID',\n",
       " 'SR_Flag',\n",
       " 'Affiliated_base_number',\n",
       " 'duration_in_hours',\n",
       " 'pickup_date']"
      ]
     },
     "execution_count": 21,
     "metadata": {},
     "output_type": "execute_result"
    }
   ],
   "source": [
    "df.columns"
   ]
  },
  {
   "cell_type": "code",
   "execution_count": 24,
   "id": "acc8f101-5538-47c0-ac80-cd4cbe70a2ed",
   "metadata": {},
   "outputs": [
    {
     "name": "stderr",
     "output_type": "stream",
     "text": [
      "[Stage 16:======================================>                   (4 + 2) / 6]\r"
     ]
    },
    {
     "name": "stdout",
     "output_type": "stream",
     "text": [
      "+--------------------+--------+\n",
      "|                Zone|count(1)|\n",
      "+--------------------+--------+\n",
      "|         Jamaica Bay|       1|\n",
      "|Governor's Island...|       2|\n",
      "| Green-Wood Cemetery|       5|\n",
      "|       Broad Channel|       8|\n",
      "|     Highbridge Park|      14|\n",
      "+--------------------+--------+\n",
      "\n"
     ]
    },
    {
     "name": "stderr",
     "output_type": "stream",
     "text": [
      "                                                                                \r"
     ]
    }
   ],
   "source": [
    "spark.sql(\"\"\"\n",
    "SELECT\n",
    "    pul.Zone,\n",
    "    COUNT(1)\n",
    "FROM \n",
    "    fhv2019_repartitioned fhv LEFT JOIN zones pul ON fhv.PULocationID = pul.LocationID\n",
    "GROUP BY \n",
    "    1\n",
    "ORDER BY\n",
    "    2 ASC\n",
    "LIMIT 5;\n",
    "\"\"\").show()"
   ]
  },
  {
   "cell_type": "code",
   "execution_count": null,
   "id": "f42a85b9-8a0b-49b3-98d2-4aed2dee2613",
   "metadata": {},
   "outputs": [],
   "source": []
  }
 ],
 "metadata": {
  "kernelspec": {
   "display_name": "Python 3 (ipykernel)",
   "language": "python",
   "name": "python3"
  },
  "language_info": {
   "codemirror_mode": {
    "name": "ipython",
    "version": 3
   },
   "file_extension": ".py",
   "mimetype": "text/x-python",
   "name": "python",
   "nbconvert_exporter": "python",
   "pygments_lexer": "ipython3",
   "version": "3.10.13"
  }
 },
 "nbformat": 4,
 "nbformat_minor": 5
}
