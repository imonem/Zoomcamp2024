{
  "cells": [
    {
      "cell_type": "markdown",
      "metadata": {
        "id": "mrTFv5nPClXh"
      },
      "source": [
        "# **Homework**: Data talks club data engineering zoomcamp Data loading workshop\n",
        "\n",
        "Hello folks, let's practice what we learned - Loading data with the best practices of data engineering.\n",
        "\n",
        "Here are the exercises we will do\n",
        "\n",
        "\n"
      ]
    },
    {
      "cell_type": "markdown",
      "metadata": {
        "id": "wLF4iXf-NR7t"
      },
      "source": [
        "# 1. Use a generator\n",
        "\n",
        "Remember the concept of generator? Let's practice using them to futher our understanding of how they work.\n",
        "\n",
        "Let's define a generator and then run it as practice.\n",
        "\n",
        "**Answer the following questions:**\n",
        "\n",
        "- **Question 1: What is the sum of the outputs of the generator for limit = 5?**\n",
        "- **Question 2: What is the 13th number yielded**\n",
        "\n",
        "I suggest practicing these questions without GPT as the purpose is to further your learning."
      ]
    },
    {
      "cell_type": "code",
      "execution_count": 2,
      "metadata": {
        "colab": {
          "base_uri": "https://localhost:8080/"
        },
        "id": "wLng-bDJN4jf",
        "outputId": "1400e4c8-d2f7-4620-8d17-2bd241fa5b5f"
      },
      "outputs": [
        {
          "name": "stdout",
          "output_type": "stream",
          "text": [
            "1.0\n",
            "1.4142135623730951\n",
            "1.7320508075688772\n",
            "2.0\n",
            "2.23606797749979\n",
            "2.449489742783178\n",
            "2.6457513110645907\n",
            "2.8284271247461903\n",
            "3.0\n",
            "3.1622776601683795\n",
            "3.3166247903554\n",
            "3.4641016151377544\n",
            "3.605551275463989\n",
            "32.854555867161245\n"
          ]
        }
      ],
      "source": [
        "def square_root_generator(limit):\n",
        "    n = 1\n",
        "    while n <= limit:\n",
        "        yield n ** 0.5\n",
        "        n += 1\n",
        "\n",
        "# Example usage:\n",
        "limit = 13\n",
        "generator = square_root_generator(limit)\n",
        "\n",
        "sum_sqrt_value = 0\n",
        "\n",
        "for sqrt_value in generator:\n",
        "    print(sqrt_value)\n",
        "    sum_sqrt_value += sqrt_value\n",
        "\n",
        "print(sum_sqrt_value)\n"
      ]
    },
    {
      "cell_type": "markdown",
      "metadata": {
        "id": "xbe3q55zN43j"
      },
      "source": []
    },
    {
      "cell_type": "markdown",
      "metadata": {
        "id": "vjWhILzGJMpK"
      },
      "source": [
        "# 2. Append a generator to a table with existing data\n",
        "\n",
        "\n",
        "Below you have 2 generators. You will be tasked to load them to duckdb and answer some questions from the data\n",
        "\n",
        "1. Load the first generator and calculate the sum of ages of all people. Make sure to only load it once.\n",
        "2. Append the second generator to the same table as the first.\n",
        "3. **After correctly appending the data, calculate the sum of all ages of people.**\n",
        "\n",
        "\n"
      ]
    },
    {
      "cell_type": "code",
      "execution_count": 3,
      "metadata": {
        "colab": {
          "base_uri": "https://localhost:8080/"
        },
        "id": "2MoaQcdLBEk6",
        "outputId": "6dfa5e5d-7c6e-4973-b7ff-9204d7b75e11"
      },
      "outputs": [
        {
          "name": "stdout",
          "output_type": "stream",
          "text": [
            "5\n",
            "140\n",
            "11\n",
            "353\n"
          ]
        }
      ],
      "source": [
        "def people_1():\n",
        "    for i in range(1, 6):\n",
        "        yield {\"ID\": i, \"Name\": f\"Person_{i}\", \"Age\": 25 + i, \"City\": \"City_A\"}\n",
        "\n",
        "data = list(people_1())\n",
        "\n",
        "sum_of_ages = sum(person[\"Age\"] for person in data)\n",
        "print(len(data))\n",
        "print(sum_of_ages)\n",
        "\n",
        "# for person in people_1():\n",
        "#     print(person)\n",
        "\n",
        "\n",
        "def people_2():\n",
        "    for i in range(3, 9):\n",
        "        yield {\"ID\": i, \"Name\": f\"Person_{i}\", \"Age\": 30 + i, \"City\": \"City_B\", \"Occupation\": f\"Job_{i}\"}\n",
        "\n",
        "data.extend(people_2())\n",
        "print(len(data))\n",
        "\n",
        "\n",
        "\n",
        "sum_of_ages = sum(person[\"Age\"] for person in data)\n",
        "\n",
        "print(sum_of_ages)\n",
        "\n",
        "# for person in people_2():\n",
        "#     print(person)\n"
      ]
    },
    {
      "cell_type": "markdown",
      "metadata": {
        "id": "vtdTIm4fvQCN"
      },
      "source": []
    },
    {
      "cell_type": "markdown",
      "metadata": {
        "id": "pY4cFAWOSwN1"
      },
      "source": [
        "# 3. Merge a generator\n",
        "\n",
        "Re-use the generators from Exercise 2.\n",
        "\n",
        "A table's primary key needs to be created from the start, so load your data to a new table with primary key ID.\n",
        "\n",
        "Load your first generator first, and then load the second one with merge. Since they have overlapping IDs, some of the records from the first load should be replaced by the ones from the second load.\n",
        "\n",
        "After loading, you should have a total of 8 records, and ID 3 should have age 33.\n",
        "\n",
        "Question: **Calculate the sum of ages of all the people loaded as described above.**\n"
      ]
    },
    {
      "cell_type": "markdown",
      "metadata": {
        "id": "kKB2GTB9oVjr"
      },
      "source": [
        "# Solution: First make sure that the following modules are installed:"
      ]
    },
    {
      "cell_type": "code",
      "execution_count": 4,
      "metadata": {
        "id": "xTVvtyqrfVNq"
      },
      "outputs": [
        {
          "name": "stdout",
          "output_type": "stream",
          "text": [
            "Requirement already satisfied: dlt[duckdb] in c:\\users\\amrna\\miniconda3\\lib\\site-packages (0.4.3)\n",
            "Requirement already satisfied: PyYAML>=5.4.1 in c:\\users\\amrna\\miniconda3\\lib\\site-packages (from dlt[duckdb]) (6.0)\n",
            "Requirement already satisfied: SQLAlchemy>=1.4.0 in c:\\users\\amrna\\miniconda3\\lib\\site-packages (from dlt[duckdb]) (2.0.25)\n",
            "Requirement already satisfied: astunparse>=1.6.3 in c:\\users\\amrna\\miniconda3\\lib\\site-packages (from dlt[duckdb]) (1.6.3)\n",
            "Requirement already satisfied: click>=7.1 in c:\\users\\amrna\\miniconda3\\lib\\site-packages (from dlt[duckdb]) (8.1.7)\n",
            "Requirement already satisfied: duckdb<0.10.0,>=0.6.1 in c:\\users\\amrna\\miniconda3\\lib\\site-packages (from dlt[duckdb]) (0.9.2)\n",
            "Requirement already satisfied: fsspec>=2022.4.0 in c:\\users\\amrna\\miniconda3\\lib\\site-packages (from dlt[duckdb]) (2024.2.0)\n",
            "Requirement already satisfied: gitpython>=3.1.29 in c:\\users\\amrna\\miniconda3\\lib\\site-packages (from dlt[duckdb]) (3.1.41)\n",
            "Requirement already satisfied: giturlparse>=0.10.0 in c:\\users\\amrna\\miniconda3\\lib\\site-packages (from dlt[duckdb]) (0.12.0)\n",
            "Requirement already satisfied: hexbytes>=0.2.2 in c:\\users\\amrna\\miniconda3\\lib\\site-packages (from dlt[duckdb]) (1.0.0)\n",
            "Requirement already satisfied: humanize>=4.4.0 in c:\\users\\amrna\\miniconda3\\lib\\site-packages (from dlt[duckdb]) (4.9.0)\n",
            "Requirement already satisfied: jsonpath-ng>=1.5.3 in c:\\users\\amrna\\miniconda3\\lib\\site-packages (from dlt[duckdb]) (1.6.1)\n",
            "Requirement already satisfied: makefun>=1.15.0 in c:\\users\\amrna\\miniconda3\\lib\\site-packages (from dlt[duckdb]) (1.15.2)\n",
            "Requirement already satisfied: orjson>=3.6.7 in c:\\users\\amrna\\miniconda3\\lib\\site-packages (from dlt[duckdb]) (3.9.13)\n",
            "Requirement already satisfied: packaging>=21.1 in c:\\users\\amrna\\miniconda3\\lib\\site-packages (from dlt[duckdb]) (23.0)\n",
            "Requirement already satisfied: pathvalidate>=2.5.2 in c:\\users\\amrna\\miniconda3\\lib\\site-packages (from dlt[duckdb]) (3.2.0)\n",
            "Requirement already satisfied: pendulum>=2.1.2 in c:\\users\\amrna\\miniconda3\\lib\\site-packages (from dlt[duckdb]) (3.0.0)\n",
            "Requirement already satisfied: pytz>=2022.6 in c:\\users\\amrna\\miniconda3\\lib\\site-packages (from dlt[duckdb]) (2023.3.post1)\n",
            "Requirement already satisfied: requests>=2.26.0 in c:\\users\\amrna\\miniconda3\\lib\\site-packages (from dlt[duckdb]) (2.31.0)\n",
            "Requirement already satisfied: requirements-parser>=0.5.0 in c:\\users\\amrna\\miniconda3\\lib\\site-packages (from dlt[duckdb]) (0.5.0)\n",
            "Requirement already satisfied: semver>=2.13.0 in c:\\users\\amrna\\miniconda3\\lib\\site-packages (from dlt[duckdb]) (3.0.2)\n",
            "Requirement already satisfied: setuptools>=65.6.0 in c:\\users\\amrna\\miniconda3\\lib\\site-packages (from dlt[duckdb]) (67.8.0)\n",
            "Requirement already satisfied: simplejson>=3.17.5 in c:\\users\\amrna\\miniconda3\\lib\\site-packages (from dlt[duckdb]) (3.19.2)\n",
            "Requirement already satisfied: tenacity>=8.0.2 in c:\\users\\amrna\\miniconda3\\lib\\site-packages (from dlt[duckdb]) (8.2.3)\n",
            "Requirement already satisfied: tomlkit>=0.11.3 in c:\\users\\amrna\\miniconda3\\lib\\site-packages (from dlt[duckdb]) (0.12.3)\n",
            "Requirement already satisfied: typing-extensions>=4.0.0 in c:\\users\\amrna\\miniconda3\\lib\\site-packages (from dlt[duckdb]) (4.7.1)\n",
            "Requirement already satisfied: tzdata>=2022.1 in c:\\users\\amrna\\miniconda3\\lib\\site-packages (from dlt[duckdb]) (2023.3)\n",
            "Requirement already satisfied: win-precise-time>=1.4.2 in c:\\users\\amrna\\miniconda3\\lib\\site-packages (from dlt[duckdb]) (1.4.2)\n",
            "Requirement already satisfied: wheel<1.0,>=0.23.0 in c:\\users\\amrna\\miniconda3\\lib\\site-packages (from astunparse>=1.6.3->dlt[duckdb]) (0.38.4)\n",
            "Requirement already satisfied: six<2.0,>=1.6.1 in c:\\users\\amrna\\miniconda3\\lib\\site-packages (from astunparse>=1.6.3->dlt[duckdb]) (1.16.0)\n",
            "Requirement already satisfied: colorama in c:\\users\\amrna\\miniconda3\\lib\\site-packages (from click>=7.1->dlt[duckdb]) (0.4.6)\n",
            "Requirement already satisfied: gitdb<5,>=4.0.1 in c:\\users\\amrna\\miniconda3\\lib\\site-packages (from gitpython>=3.1.29->dlt[duckdb]) (4.0.11)\n",
            "Requirement already satisfied: ply in c:\\users\\amrna\\miniconda3\\lib\\site-packages (from jsonpath-ng>=1.5.3->dlt[duckdb]) (3.11)\n",
            "Requirement already satisfied: python-dateutil>=2.6 in c:\\users\\amrna\\miniconda3\\lib\\site-packages (from pendulum>=2.1.2->dlt[duckdb]) (2.8.2)\n",
            "Requirement already satisfied: time-machine>=2.6.0 in c:\\users\\amrna\\miniconda3\\lib\\site-packages (from pendulum>=2.1.2->dlt[duckdb]) (2.13.0)\n",
            "Requirement already satisfied: charset-normalizer<4,>=2 in c:\\users\\amrna\\miniconda3\\lib\\site-packages (from requests>=2.26.0->dlt[duckdb]) (2.0.4)\n",
            "Requirement already satisfied: idna<4,>=2.5 in c:\\users\\amrna\\miniconda3\\lib\\site-packages (from requests>=2.26.0->dlt[duckdb]) (3.4)\n",
            "Requirement already satisfied: urllib3<3,>=1.21.1 in c:\\users\\amrna\\miniconda3\\lib\\site-packages (from requests>=2.26.0->dlt[duckdb]) (1.26.18)\n",
            "Requirement already satisfied: certifi>=2017.4.17 in c:\\users\\amrna\\miniconda3\\lib\\site-packages (from requests>=2.26.0->dlt[duckdb]) (2023.11.17)\n",
            "Requirement already satisfied: types-setuptools>=57.0.0 in c:\\users\\amrna\\miniconda3\\lib\\site-packages (from requirements-parser>=0.5.0->dlt[duckdb]) (69.0.0.20240125)\n",
            "Requirement already satisfied: greenlet!=0.4.17 in c:\\users\\amrna\\miniconda3\\lib\\site-packages (from SQLAlchemy>=1.4.0->dlt[duckdb]) (3.0.3)\n",
            "Requirement already satisfied: smmap<6,>=3.0.1 in c:\\users\\amrna\\miniconda3\\lib\\site-packages (from gitdb<5,>=4.0.1->gitpython>=3.1.29->dlt[duckdb]) (5.0.1)\n",
            "Requirement already satisfied: streamlit in c:\\users\\amrna\\miniconda3\\lib\\site-packages (1.31.0)\n",
            "Requirement already satisfied: altair<6,>=4.0 in c:\\users\\amrna\\miniconda3\\lib\\site-packages (from streamlit) (5.2.0)\n",
            "Requirement already satisfied: blinker<2,>=1.0.0 in c:\\users\\amrna\\miniconda3\\lib\\site-packages (from streamlit) (1.7.0)\n",
            "Requirement already satisfied: cachetools<6,>=4.0 in c:\\users\\amrna\\miniconda3\\lib\\site-packages (from streamlit) (5.3.2)\n",
            "Requirement already satisfied: click<9,>=7.0 in c:\\users\\amrna\\miniconda3\\lib\\site-packages (from streamlit) (8.1.7)\n",
            "Requirement already satisfied: importlib-metadata<8,>=1.4 in c:\\users\\amrna\\miniconda3\\lib\\site-packages (from streamlit) (7.0.1)\n",
            "Requirement already satisfied: numpy<2,>=1.19.3 in c:\\users\\amrna\\miniconda3\\lib\\site-packages (from streamlit) (1.26.0)\n",
            "Requirement already satisfied: packaging<24,>=16.8 in c:\\users\\amrna\\miniconda3\\lib\\site-packages (from streamlit) (23.0)\n",
            "Requirement already satisfied: pandas<3,>=1.3.0 in c:\\users\\amrna\\miniconda3\\lib\\site-packages (from streamlit) (2.1.1)\n",
            "Requirement already satisfied: pillow<11,>=7.1.0 in c:\\users\\amrna\\miniconda3\\lib\\site-packages (from streamlit) (10.2.0)\n",
            "Requirement already satisfied: protobuf<5,>=3.20 in c:\\users\\amrna\\miniconda3\\lib\\site-packages (from streamlit) (4.25.2)\n",
            "Requirement already satisfied: pyarrow>=7.0 in c:\\users\\amrna\\miniconda3\\lib\\site-packages (from streamlit) (15.0.0)\n",
            "Requirement already satisfied: python-dateutil<3,>=2.7.3 in c:\\users\\amrna\\miniconda3\\lib\\site-packages (from streamlit) (2.8.2)\n",
            "Requirement already satisfied: requests<3,>=2.27 in c:\\users\\amrna\\miniconda3\\lib\\site-packages (from streamlit) (2.31.0)\n",
            "Requirement already satisfied: rich<14,>=10.14.0 in c:\\users\\amrna\\miniconda3\\lib\\site-packages (from streamlit) (13.7.0)\n",
            "Requirement already satisfied: tenacity<9,>=8.1.0 in c:\\users\\amrna\\miniconda3\\lib\\site-packages (from streamlit) (8.2.3)\n",
            "Requirement already satisfied: toml<2,>=0.10.1 in c:\\users\\amrna\\miniconda3\\lib\\site-packages (from streamlit) (0.10.2)\n",
            "Requirement already satisfied: typing-extensions<5,>=4.3.0 in c:\\users\\amrna\\miniconda3\\lib\\site-packages (from streamlit) (4.7.1)\n",
            "Requirement already satisfied: tzlocal<6,>=1.1 in c:\\users\\amrna\\miniconda3\\lib\\site-packages (from streamlit) (5.2)\n",
            "Requirement already satisfied: validators<1,>=0.2 in c:\\users\\amrna\\miniconda3\\lib\\site-packages (from streamlit) (0.22.0)\n",
            "Requirement already satisfied: gitpython!=3.1.19,<4,>=3.0.7 in c:\\users\\amrna\\miniconda3\\lib\\site-packages (from streamlit) (3.1.41)\n",
            "Requirement already satisfied: pydeck<1,>=0.8.0b4 in c:\\users\\amrna\\miniconda3\\lib\\site-packages (from streamlit) (0.8.1b0)\n",
            "Requirement already satisfied: tornado<7,>=6.0.3 in c:\\users\\amrna\\miniconda3\\lib\\site-packages (from streamlit) (6.3.3)\n",
            "Requirement already satisfied: watchdog>=2.1.5 in c:\\users\\amrna\\miniconda3\\lib\\site-packages (from streamlit) (4.0.0)\n",
            "Requirement already satisfied: jinja2 in c:\\users\\amrna\\miniconda3\\lib\\site-packages (from altair<6,>=4.0->streamlit) (3.1.2)\n",
            "Requirement already satisfied: jsonschema>=3.0 in c:\\users\\amrna\\miniconda3\\lib\\site-packages (from altair<6,>=4.0->streamlit) (4.17.3)\n",
            "Requirement already satisfied: toolz in c:\\users\\amrna\\miniconda3\\lib\\site-packages (from altair<6,>=4.0->streamlit) (0.12.0)\n",
            "Requirement already satisfied: colorama in c:\\users\\amrna\\miniconda3\\lib\\site-packages (from click<9,>=7.0->streamlit) (0.4.6)\n",
            "Requirement already satisfied: gitdb<5,>=4.0.1 in c:\\users\\amrna\\miniconda3\\lib\\site-packages (from gitpython!=3.1.19,<4,>=3.0.7->streamlit) (4.0.11)\n",
            "Requirement already satisfied: zipp>=0.5 in c:\\users\\amrna\\miniconda3\\lib\\site-packages (from importlib-metadata<8,>=1.4->streamlit) (3.17.0)\n",
            "Requirement already satisfied: pytz>=2020.1 in c:\\users\\amrna\\miniconda3\\lib\\site-packages (from pandas<3,>=1.3.0->streamlit) (2023.3.post1)\n",
            "Requirement already satisfied: tzdata>=2022.1 in c:\\users\\amrna\\miniconda3\\lib\\site-packages (from pandas<3,>=1.3.0->streamlit) (2023.3)\n",
            "Requirement already satisfied: six>=1.5 in c:\\users\\amrna\\miniconda3\\lib\\site-packages (from python-dateutil<3,>=2.7.3->streamlit) (1.16.0)\n",
            "Requirement already satisfied: charset-normalizer<4,>=2 in c:\\users\\amrna\\miniconda3\\lib\\site-packages (from requests<3,>=2.27->streamlit) (2.0.4)\n",
            "Requirement already satisfied: idna<4,>=2.5 in c:\\users\\amrna\\miniconda3\\lib\\site-packages (from requests<3,>=2.27->streamlit) (3.4)\n",
            "Requirement already satisfied: urllib3<3,>=1.21.1 in c:\\users\\amrna\\miniconda3\\lib\\site-packages (from requests<3,>=2.27->streamlit) (1.26.18)\n",
            "Requirement already satisfied: certifi>=2017.4.17 in c:\\users\\amrna\\miniconda3\\lib\\site-packages (from requests<3,>=2.27->streamlit) (2023.11.17)\n",
            "Requirement already satisfied: markdown-it-py>=2.2.0 in c:\\users\\amrna\\miniconda3\\lib\\site-packages (from rich<14,>=10.14.0->streamlit) (3.0.0)\n",
            "Requirement already satisfied: pygments<3.0.0,>=2.13.0 in c:\\users\\amrna\\miniconda3\\lib\\site-packages (from rich<14,>=10.14.0->streamlit) (2.15.1)\n",
            "Requirement already satisfied: smmap<6,>=3.0.1 in c:\\users\\amrna\\miniconda3\\lib\\site-packages (from gitdb<5,>=4.0.1->gitpython!=3.1.19,<4,>=3.0.7->streamlit) (5.0.1)\n",
            "Requirement already satisfied: MarkupSafe>=2.0 in c:\\users\\amrna\\miniconda3\\lib\\site-packages (from jinja2->altair<6,>=4.0->streamlit) (2.1.1)\n",
            "Requirement already satisfied: attrs>=17.4.0 in c:\\users\\amrna\\miniconda3\\lib\\site-packages (from jsonschema>=3.0->altair<6,>=4.0->streamlit) (23.1.0)\n",
            "Requirement already satisfied: pyrsistent!=0.17.0,!=0.17.1,!=0.17.2,>=0.14.0 in c:\\users\\amrna\\miniconda3\\lib\\site-packages (from jsonschema>=3.0->altair<6,>=4.0->streamlit) (0.18.0)\n",
            "Requirement already satisfied: mdurl~=0.1 in c:\\users\\amrna\\miniconda3\\lib\\site-packages (from markdown-it-py>=2.2.0->rich<14,>=10.14.0->streamlit) (0.1.0)\n"
          ]
        }
      ],
      "source": [
        "#Install the dependencies\n",
        "# %%capture\n",
        "%pip install dlt[duckdb]\n",
        "%pip install streamlit"
      ]
    },
    {
      "cell_type": "code",
      "execution_count": 5,
      "metadata": {
        "colab": {
          "base_uri": "https://localhost:8080/"
        },
        "id": "a2-PRBAkGC2K",
        "outputId": "c76b25c9-57e6-4aea-d447-633cde095b30"
      },
      "outputs": [],
      "source": [
        "# to do: homework :)\n",
        "import dlt\n",
        "\n",
        "pipeline = dlt.pipeline(pipeline_name=\"people_data\", destination='duckdb', dataset_name='personal_data')\n",
        "\n",
        "info = pipeline.run(people_1, table_name='persons', primary_key='id', write_disposition='replace')\n",
        "\n",
        "\n",
        "# print(info)\n",
        "\n"
      ]
    },
    {
      "cell_type": "code",
      "execution_count": 6,
      "metadata": {},
      "outputs": [
        {
          "data": {
            "text/plain": [
              "LoadInfo(pipeline=<dlt.pipeline.pipeline.Pipeline object at 0x00000220781C2CD0>, metrics={'1707415178.866187': [{'started_at': DateTime(2024, 2, 8, 17, 59, 39, 328429, tzinfo=Timezone('UTC')), 'finished_at': DateTime(2024, 2, 8, 17, 59, 39, 868032, tzinfo=Timezone('UTC'))}]}, destination_type='dlt.destinations.duckdb', destination_displayable_credentials='duckdb:///c:\\\\Users\\\\amrna\\\\OneDrive\\\\Desktop\\\\people_data.duckdb', destination_name='duckdb', environment=None, staging_type=None, staging_name=None, staging_displayable_credentials=None, destination_fingerprint='', dataset_name='personal_data', loads_ids=['1707415178.866187'], load_packages=[LoadPackageInfo(load_id='1707415178.866187', package_path='C:\\\\Users\\\\amrna\\\\.dlt\\\\pipelines\\\\people_data\\\\load\\\\loaded\\\\1707415178.866187', state='loaded', schema=Schema people_data at 2338507450704, schema_update={}, completed_at=DateTime(2024, 2, 8, 17, 59, 39, 843620, tzinfo=Timezone('UTC')), jobs={'new_jobs': [], 'completed_jobs': [LoadJobInfo(state='completed_jobs', file_path='C:\\\\Users\\\\amrna\\\\.dlt\\\\pipelines\\\\people_data\\\\load\\\\loaded\\\\1707415178.866187\\\\completed_jobs\\\\persons.300a7256ac.0.sql', file_size=694, created_at=DateTime(2024, 2, 8, 17, 59, 39, 433304, tzinfo=Timezone('UTC')), elapsed=0.41031599044799805, job_file_info=ParsedLoadJobFileName(table_name='persons', file_id='300a7256ac', retry_count=0, file_format='sql'), failed_message=None), LoadJobInfo(state='completed_jobs', file_path='C:\\\\Users\\\\amrna\\\\.dlt\\\\pipelines\\\\people_data\\\\load\\\\loaded\\\\1707415178.866187\\\\completed_jobs\\\\persons.50753e9449.0.insert_values', file_size=331, created_at=DateTime(2024, 2, 8, 17, 59, 38, 964740, tzinfo=Timezone('UTC')), elapsed=0.8788797855377197, job_file_info=ParsedLoadJobFileName(table_name='persons', file_id='50753e9449', retry_count=0, file_format='insert_values'), failed_message=None)], 'failed_jobs': [], 'started_jobs': []})], first_run=False)"
            ]
          },
          "execution_count": 6,
          "metadata": {},
          "output_type": "execute_result"
        }
      ],
      "source": [
        "pipeline = dlt.pipeline(pipeline_name=\"people_data\", destination='duckdb', dataset_name='personal_data')\n",
        "pipeline.run(people_2, table_name=\"persons\",\n",
        "\t\t\t\t\twrite_disposition=\"merge\",\n",
        "\t\t\t\t\tprimary_key=\"id\")"
      ]
    },
    {
      "cell_type": "code",
      "execution_count": 9,
      "metadata": {},
      "outputs": [
        {
          "name": "stdout",
          "output_type": "stream",
          "text": [
            "Loaded tables: \n"
          ]
        },
        {
          "data": {
            "text/plain": [
              "┌─────────────────────┐\n",
              "│        name         │\n",
              "│       varchar       │\n",
              "├─────────────────────┤\n",
              "│ _dlt_loads          │\n",
              "│ _dlt_pipeline_state │\n",
              "│ _dlt_version        │\n",
              "│ persons             │\n",
              "└─────────────────────┘"
            ]
          },
          "metadata": {},
          "output_type": "display_data"
        },
        {
          "name": "stdout",
          "output_type": "stream",
          "text": [
            "\n",
            "\n",
            "\n",
            " persons table below:\n"
          ]
        },
        {
          "data": {
            "text/html": [
              "<div>\n",
              "<style scoped>\n",
              "    .dataframe tbody tr th:only-of-type {\n",
              "        vertical-align: middle;\n",
              "    }\n",
              "\n",
              "    .dataframe tbody tr th {\n",
              "        vertical-align: top;\n",
              "    }\n",
              "\n",
              "    .dataframe thead th {\n",
              "        text-align: right;\n",
              "    }\n",
              "</style>\n",
              "<table border=\"1\" class=\"dataframe\">\n",
              "  <thead>\n",
              "    <tr style=\"text-align: right;\">\n",
              "      <th></th>\n",
              "      <th>id</th>\n",
              "      <th>name</th>\n",
              "      <th>age</th>\n",
              "      <th>city</th>\n",
              "      <th>_dlt_load_id</th>\n",
              "      <th>_dlt_id</th>\n",
              "      <th>occupation</th>\n",
              "    </tr>\n",
              "  </thead>\n",
              "  <tbody>\n",
              "    <tr>\n",
              "      <th>0</th>\n",
              "      <td>1</td>\n",
              "      <td>Person_1</td>\n",
              "      <td>26</td>\n",
              "      <td>City_A</td>\n",
              "      <td>1707415175.3786669</td>\n",
              "      <td>ylQ1Gb4q65hjnQ</td>\n",
              "      <td>None</td>\n",
              "    </tr>\n",
              "    <tr>\n",
              "      <th>1</th>\n",
              "      <td>2</td>\n",
              "      <td>Person_2</td>\n",
              "      <td>27</td>\n",
              "      <td>City_A</td>\n",
              "      <td>1707415175.3786669</td>\n",
              "      <td>3g7xP0BnOg5U3A</td>\n",
              "      <td>None</td>\n",
              "    </tr>\n",
              "    <tr>\n",
              "      <th>2</th>\n",
              "      <td>5</td>\n",
              "      <td>Person_5</td>\n",
              "      <td>35</td>\n",
              "      <td>City_B</td>\n",
              "      <td>1707415178.866187</td>\n",
              "      <td>0qndJpnw4LJzjw</td>\n",
              "      <td>Job_5</td>\n",
              "    </tr>\n",
              "    <tr>\n",
              "      <th>3</th>\n",
              "      <td>7</td>\n",
              "      <td>Person_7</td>\n",
              "      <td>37</td>\n",
              "      <td>City_B</td>\n",
              "      <td>1707415178.866187</td>\n",
              "      <td>TfOZJDYBWfubMQ</td>\n",
              "      <td>Job_7</td>\n",
              "    </tr>\n",
              "    <tr>\n",
              "      <th>4</th>\n",
              "      <td>4</td>\n",
              "      <td>Person_4</td>\n",
              "      <td>34</td>\n",
              "      <td>City_B</td>\n",
              "      <td>1707415178.866187</td>\n",
              "      <td>DWMccHgnKGZJlQ</td>\n",
              "      <td>Job_4</td>\n",
              "    </tr>\n",
              "    <tr>\n",
              "      <th>5</th>\n",
              "      <td>8</td>\n",
              "      <td>Person_8</td>\n",
              "      <td>38</td>\n",
              "      <td>City_B</td>\n",
              "      <td>1707415178.866187</td>\n",
              "      <td>SW+Jk9+ONDsjmQ</td>\n",
              "      <td>Job_8</td>\n",
              "    </tr>\n",
              "    <tr>\n",
              "      <th>6</th>\n",
              "      <td>3</td>\n",
              "      <td>Person_3</td>\n",
              "      <td>33</td>\n",
              "      <td>City_B</td>\n",
              "      <td>1707415178.866187</td>\n",
              "      <td>tGbx17v+RbzwEg</td>\n",
              "      <td>Job_3</td>\n",
              "    </tr>\n",
              "    <tr>\n",
              "      <th>7</th>\n",
              "      <td>6</td>\n",
              "      <td>Person_6</td>\n",
              "      <td>36</td>\n",
              "      <td>City_B</td>\n",
              "      <td>1707415178.866187</td>\n",
              "      <td>LqZz1Co/BBuhpQ</td>\n",
              "      <td>Job_6</td>\n",
              "    </tr>\n",
              "  </tbody>\n",
              "</table>\n",
              "</div>"
            ],
            "text/plain": [
              "   id      name  age    city        _dlt_load_id         _dlt_id occupation\n",
              "0   1  Person_1   26  City_A  1707415175.3786669  ylQ1Gb4q65hjnQ       None\n",
              "1   2  Person_2   27  City_A  1707415175.3786669  3g7xP0BnOg5U3A       None\n",
              "2   5  Person_5   35  City_B   1707415178.866187  0qndJpnw4LJzjw      Job_5\n",
              "3   7  Person_7   37  City_B   1707415178.866187  TfOZJDYBWfubMQ      Job_7\n",
              "4   4  Person_4   34  City_B   1707415178.866187  DWMccHgnKGZJlQ      Job_4\n",
              "5   8  Person_8   38  City_B   1707415178.866187  SW+Jk9+ONDsjmQ      Job_8\n",
              "6   3  Person_3   33  City_B   1707415178.866187  tGbx17v+RbzwEg      Job_3\n",
              "7   6  Person_6   36  City_B   1707415178.866187  LqZz1Co/BBuhpQ      Job_6"
            ]
          },
          "metadata": {},
          "output_type": "display_data"
        },
        {
          "name": "stdout",
          "output_type": "stream",
          "text": [
            "\n",
            "\n",
            "\n",
            " stream_download table below:\n"
          ]
        },
        {
          "data": {
            "text/html": [
              "<div>\n",
              "<style scoped>\n",
              "    .dataframe tbody tr th:only-of-type {\n",
              "        vertical-align: middle;\n",
              "    }\n",
              "\n",
              "    .dataframe tbody tr th {\n",
              "        vertical-align: top;\n",
              "    }\n",
              "\n",
              "    .dataframe thead th {\n",
              "        text-align: right;\n",
              "    }\n",
              "</style>\n",
              "<table border=\"1\" class=\"dataframe\">\n",
              "  <thead>\n",
              "    <tr style=\"text-align: right;\">\n",
              "      <th></th>\n",
              "      <th>sum(age)</th>\n",
              "    </tr>\n",
              "  </thead>\n",
              "  <tbody>\n",
              "    <tr>\n",
              "      <th>0</th>\n",
              "      <td>266.0</td>\n",
              "    </tr>\n",
              "  </tbody>\n",
              "</table>\n",
              "</div>"
            ],
            "text/plain": [
              "   sum(age)\n",
              "0     266.0"
            ]
          },
          "metadata": {},
          "output_type": "display_data"
        }
      ],
      "source": [
        "import duckdb\n",
        "\n",
        "# setup connection to pipeline\n",
        "conn = duckdb.connect(f\"{pipeline.pipeline_name}.duckdb\")\n",
        "\n",
        "# duckdb to display tables\n",
        "conn.sql(f\"SET search_path = '{pipeline.dataset_name}'\")\n",
        "print('Loaded tables: ')\n",
        "display(conn.sql(\"show tables\"))\n",
        "\n",
        "# and the data\n",
        "\n",
        "print(\"\\n\\n\\n persons table below:\")\n",
        "\n",
        "persons = conn.sql(\"SELECT * FROM persons\").df()\n",
        "display(persons)\n",
        "\n",
        "print(\"\\n\\n\\n stream_download table below:\")\n",
        "\n",
        "total_age = conn.sql(\"SELECT SUM(age) FROM persons\").df()\n",
        "display(total_age)"
      ]
    }
  ],
  "metadata": {
    "colab": {
      "provenance": []
    },
    "kernelspec": {
      "display_name": "Python 3",
      "name": "python3"
    },
    "language_info": {
      "codemirror_mode": {
        "name": "ipython",
        "version": 3
      },
      "file_extension": ".py",
      "mimetype": "text/x-python",
      "name": "python",
      "nbconvert_exporter": "python",
      "pygments_lexer": "ipython3",
      "version": "3.11.4"
    }
  },
  "nbformat": 4,
  "nbformat_minor": 0
}
